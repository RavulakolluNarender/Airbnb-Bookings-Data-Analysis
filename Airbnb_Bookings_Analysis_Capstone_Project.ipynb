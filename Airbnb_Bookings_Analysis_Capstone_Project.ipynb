{
  "nbformat": 4,
  "nbformat_minor": 0,
  "metadata": {
    "kernelspec": {
      "display_name": "Python 3",
      "language": "python",
      "name": "python3"
    },
    "language_info": {
      "codemirror_mode": {
        "name": "ipython",
        "version": 3
      },
      "file_extension": ".py",
      "mimetype": "text/x-python",
      "name": "python",
      "nbconvert_exporter": "python",
      "pygments_lexer": "ipython3",
      "version": "3.6.6"
    },
    "colab": {
      "name": "Airbnb Bookings Analysis - Capstone Project.ipynb",
      "provenance": [],
      "collapsed_sections": []
    }
  },
  "cells": [
    {
      "cell_type": "markdown",
      "metadata": {
        "id": "VbNmeiltXWRo"
      },
      "source": [
        "# What is Airbnb?\n",
        "\n",
        "## Airbnb, Inc. is an American company that operates an online marketplace for lodging, primarily homestays for vacation rentals, and tourism activities. Based in San Francisco, California, the platform is accessible via website and mobile app."
      ]
    },
    {
      "cell_type": "markdown",
      "metadata": {
        "id": "Y06xIdG26kRF"
      },
      "source": [
        "## <b> Since 2008, guests and hosts have used Airbnb to expand on traveling possibilities and present a more unique, personalized way of experiencing the world. Today, Airbnb became one of a kind service that is used and recognized by the whole world. Data analysis on millions of listings provided through Airbnb is a crucial factor for the company. These millions of listings generate a lot of data - data that can be analyzed and used for security, business decisions, understanding of customers' and providers' (hosts) behavior and performance on the platform, guiding marketing initiatives, implementation of innovative additional services and much more. </b>\n",
        "\n",
        "## <b>This dataset has around 49,000 observations in it with 16 columns and it is a mix between categorical and numeric values. </b>\n",
        "\n",
        "## <b> Explore and analyze the data to discover key understandings (not limited to these) such as : \n",
        "* What can we learn about different hosts and areas?\n",
        "* What can we learn from predictions? (ex: locations, prices, reviews, etc)\n",
        "* Which hosts are the busiest and why?\n",
        "* Is there any noticeable difference of traffic among different areas and what could be the reason for it? </b>"
      ]
    },
    {
      "cell_type": "markdown",
      "metadata": {
        "id": "wWv0hHb2VCbA"
      },
      "source": [
        "####Importing Libraries "
      ]
    },
    {
      "cell_type": "code",
      "metadata": {
        "id": "dByMsuzT8Tnw"
      },
      "source": [
        "import numpy as np\n",
        "import pandas as pd \n",
        "import matplotlib.pyplot as plt\n",
        "\n",
        "%matplotlib inline"
      ],
      "execution_count": 1,
      "outputs": []
    },
    {
      "cell_type": "code",
      "metadata": {
        "colab": {
          "base_uri": "https://localhost:8080/",
          "height": 156
        },
        "id": "lDB7Bd2nkkGM",
        "outputId": "d9160f0b-f244-4431-b53f-b379fe2b5c47"
      },
      "source": [
        "%lsmagic"
      ],
      "execution_count": 2,
      "outputs": [
        {
          "output_type": "execute_result",
          "data": {
            "application/json": {
              "cell": {
                "prun": "ExecutionMagics",
                "file": "Other",
                "!": "OSMagics",
                "capture": "ExecutionMagics",
                "timeit": "ExecutionMagics",
                "script": "ScriptMagics",
                "pypy": "Other",
                "system": "OSMagics",
                "perl": "Other",
                "html": "DisplayMagics",
                "bash": "Other",
                "shell": "Other",
                "HTML": "Other",
                "python": "Other",
                "SVG": "Other",
                "javascript": "DisplayMagics",
                "bigquery": "Other",
                "js": "DisplayMagics",
                "writefile": "OSMagics",
                "ruby": "Other",
                "python3": "Other",
                "python2": "Other",
                "latex": "DisplayMagics",
                "sx": "OSMagics",
                "svg": "DisplayMagics",
                "sh": "Other",
                "time": "ExecutionMagics",
                "debug": "ExecutionMagics"
              },
              "line": {
                "psource": "NamespaceMagics",
                "logstart": "LoggingMagics",
                "popd": "OSMagics",
                "tensorflow_version": "Other",
                "loadpy": "CodeMagics",
                "colors": "BasicMagics",
                "who_ls": "NamespaceMagics",
                "lf": "Other",
                "ll": "Other",
                "pprint": "BasicMagics",
                "lk": "Other",
                "ls": "Other",
                "save": "CodeMagics",
                "tb": "ExecutionMagics",
                "lx": "Other",
                "pylab": "PylabMagics",
                "killbgscripts": "ScriptMagics",
                "quickref": "BasicMagics",
                "magic": "BasicMagics",
                "dhist": "OSMagics",
                "edit": "KernelMagics",
                "logstop": "LoggingMagics",
                "gui": "BasicMagics",
                "prun": "ExecutionMagics",
                "debug": "ExecutionMagics",
                "page": "BasicMagics",
                "logstate": "LoggingMagics",
                "ed": "Other",
                "pushd": "OSMagics",
                "timeit": "ExecutionMagics",
                "set_env": "OSMagics",
                "rehashx": "OSMagics",
                "hist": "Other",
                "qtconsole": "KernelMagics",
                "rm": "Other",
                "dirs": "OSMagics",
                "run": "ExecutionMagics",
                "reset_selective": "NamespaceMagics",
                "pinfo2": "NamespaceMagics",
                "matplotlib": "PylabMagics",
                "unload_ext": "ExtensionMagics",
                "doctest_mode": "BasicMagics",
                "logoff": "LoggingMagics",
                "reload_ext": "ExtensionMagics",
                "pdb": "ExecutionMagics",
                "load": "CodeMagics",
                "lsmagic": "BasicMagics",
                "autosave": "KernelMagics",
                "cd": "OSMagics",
                "pastebin": "CodeMagics",
                "alias_magic": "BasicMagics",
                "cp": "Other",
                "autocall": "AutoMagics",
                "ldir": "Other",
                "bookmark": "OSMagics",
                "connect_info": "KernelMagics",
                "mkdir": "Other",
                "system": "OSMagics",
                "whos": "NamespaceMagics",
                "rmdir": "Other",
                "automagic": "AutoMagics",
                "store": "StoreMagics",
                "more": "KernelMagics",
                "shell": "Other",
                "pdef": "NamespaceMagics",
                "precision": "BasicMagics",
                "pinfo": "NamespaceMagics",
                "pwd": "OSMagics",
                "psearch": "NamespaceMagics",
                "reset": "NamespaceMagics",
                "recall": "HistoryMagics",
                "xdel": "NamespaceMagics",
                "xmode": "BasicMagics",
                "cat": "Other",
                "mv": "Other",
                "rerun": "HistoryMagics",
                "logon": "LoggingMagics",
                "history": "HistoryMagics",
                "pycat": "OSMagics",
                "pip": "Other",
                "unalias": "OSMagics",
                "env": "OSMagics",
                "load_ext": "ExtensionMagics",
                "config": "ConfigMagics",
                "profile": "BasicMagics",
                "pfile": "NamespaceMagics",
                "less": "KernelMagics",
                "who": "NamespaceMagics",
                "notebook": "BasicMagics",
                "man": "KernelMagics",
                "sx": "OSMagics",
                "macro": "ExecutionMagics",
                "clear": "KernelMagics",
                "alias": "OSMagics",
                "time": "ExecutionMagics",
                "sc": "OSMagics",
                "rep": "Other",
                "pdoc": "NamespaceMagics"
              }
            },
            "text/plain": [
              "Available line magics:\n",
              "%alias  %alias_magic  %autocall  %automagic  %autosave  %bookmark  %cat  %cd  %clear  %colors  %config  %connect_info  %cp  %debug  %dhist  %dirs  %doctest_mode  %ed  %edit  %env  %gui  %hist  %history  %killbgscripts  %ldir  %less  %lf  %lk  %ll  %load  %load_ext  %loadpy  %logoff  %logon  %logstart  %logstate  %logstop  %ls  %lsmagic  %lx  %macro  %magic  %man  %matplotlib  %mkdir  %more  %mv  %notebook  %page  %pastebin  %pdb  %pdef  %pdoc  %pfile  %pinfo  %pinfo2  %pip  %popd  %pprint  %precision  %profile  %prun  %psearch  %psource  %pushd  %pwd  %pycat  %pylab  %qtconsole  %quickref  %recall  %rehashx  %reload_ext  %rep  %rerun  %reset  %reset_selective  %rm  %rmdir  %run  %save  %sc  %set_env  %shell  %store  %sx  %system  %tb  %tensorflow_version  %time  %timeit  %unalias  %unload_ext  %who  %who_ls  %whos  %xdel  %xmode\n",
              "\n",
              "Available cell magics:\n",
              "%%!  %%HTML  %%SVG  %%bash  %%bigquery  %%capture  %%debug  %%file  %%html  %%javascript  %%js  %%latex  %%perl  %%prun  %%pypy  %%python  %%python2  %%python3  %%ruby  %%script  %%sh  %%shell  %%svg  %%sx  %%system  %%time  %%timeit  %%writefile\n",
              "\n",
              "Automagic is ON, % prefix IS NOT needed for line magics."
            ]
          },
          "metadata": {},
          "execution_count": 2
        }
      ]
    },
    {
      "cell_type": "markdown",
      "metadata": {
        "id": "BD-RwhQIVLhV"
      },
      "source": [
        "####Mounting Google Drive"
      ]
    },
    {
      "cell_type": "code",
      "metadata": {
        "colab": {
          "base_uri": "https://localhost:8080/"
        },
        "id": "3G7z2QX-kmY1",
        "outputId": "12a02222-7133-4d92-8532-dc1a30980cb1"
      },
      "source": [
        "from google.colab import drive\n",
        "drive.mount('/content/drive/')"
      ],
      "execution_count": 3,
      "outputs": [
        {
          "output_type": "stream",
          "name": "stdout",
          "text": [
            "Drive already mounted at /content/drive/; to attempt to forcibly remount, call drive.mount(\"/content/drive/\", force_remount=True).\n"
          ]
        }
      ]
    },
    {
      "cell_type": "code",
      "metadata": {
        "id": "EwVCP7CNlCUk"
      },
      "source": [
        "path = '/content/drive/My Drive/'"
      ],
      "execution_count": 4,
      "outputs": []
    },
    {
      "cell_type": "markdown",
      "metadata": {
        "id": "jT6Ygff4VPgA"
      },
      "source": [
        "####Importing Dataset From Drive\n"
      ]
    },
    {
      "cell_type": "code",
      "metadata": {
        "id": "KAHCkj1xllNX"
      },
      "source": [
        "df = pd.read_csv(path + 'Airbnb NYC 2019.csv')"
      ],
      "execution_count": 5,
      "outputs": []
    },
    {
      "cell_type": "code",
      "metadata": {
        "colab": {
          "base_uri": "https://localhost:8080/"
        },
        "id": "OC4VVbUolxyj",
        "outputId": "2b555dde-aa71-4e31-e66d-cbfd4d2e289f"
      },
      "source": [
        "df.info()"
      ],
      "execution_count": 6,
      "outputs": [
        {
          "output_type": "stream",
          "name": "stdout",
          "text": [
            "<class 'pandas.core.frame.DataFrame'>\n",
            "RangeIndex: 48895 entries, 0 to 48894\n",
            "Data columns (total 16 columns):\n",
            " #   Column                          Non-Null Count  Dtype  \n",
            "---  ------                          --------------  -----  \n",
            " 0   id                              48895 non-null  int64  \n",
            " 1   name                            48879 non-null  object \n",
            " 2   host_id                         48895 non-null  int64  \n",
            " 3   host_name                       48874 non-null  object \n",
            " 4   neighbourhood_group             48895 non-null  object \n",
            " 5   neighbourhood                   48895 non-null  object \n",
            " 6   latitude                        48895 non-null  float64\n",
            " 7   longitude                       48895 non-null  float64\n",
            " 8   room_type                       48895 non-null  object \n",
            " 9   price                           48895 non-null  int64  \n",
            " 10  minimum_nights                  48895 non-null  int64  \n",
            " 11  number_of_reviews               48895 non-null  int64  \n",
            " 12  last_review                     38843 non-null  object \n",
            " 13  reviews_per_month               38843 non-null  float64\n",
            " 14  calculated_host_listings_count  48895 non-null  int64  \n",
            " 15  availability_365                48895 non-null  int64  \n",
            "dtypes: float64(3), int64(7), object(6)\n",
            "memory usage: 6.0+ MB\n"
          ]
        }
      ]
    },
    {
      "cell_type": "code",
      "metadata": {
        "colab": {
          "base_uri": "https://localhost:8080/",
          "height": 317
        },
        "id": "zWDlGrEEl7XW",
        "outputId": "a784b815-544b-49bd-b724-2da2f77c3c8f"
      },
      "source": [
        "df.describe()"
      ],
      "execution_count": 7,
      "outputs": [
        {
          "output_type": "execute_result",
          "data": {
            "text/html": [
              "<div>\n",
              "<style scoped>\n",
              "    .dataframe tbody tr th:only-of-type {\n",
              "        vertical-align: middle;\n",
              "    }\n",
              "\n",
              "    .dataframe tbody tr th {\n",
              "        vertical-align: top;\n",
              "    }\n",
              "\n",
              "    .dataframe thead th {\n",
              "        text-align: right;\n",
              "    }\n",
              "</style>\n",
              "<table border=\"1\" class=\"dataframe\">\n",
              "  <thead>\n",
              "    <tr style=\"text-align: right;\">\n",
              "      <th></th>\n",
              "      <th>id</th>\n",
              "      <th>host_id</th>\n",
              "      <th>latitude</th>\n",
              "      <th>longitude</th>\n",
              "      <th>price</th>\n",
              "      <th>minimum_nights</th>\n",
              "      <th>number_of_reviews</th>\n",
              "      <th>reviews_per_month</th>\n",
              "      <th>calculated_host_listings_count</th>\n",
              "      <th>availability_365</th>\n",
              "    </tr>\n",
              "  </thead>\n",
              "  <tbody>\n",
              "    <tr>\n",
              "      <th>count</th>\n",
              "      <td>4.889500e+04</td>\n",
              "      <td>4.889500e+04</td>\n",
              "      <td>48895.000000</td>\n",
              "      <td>48895.000000</td>\n",
              "      <td>48895.000000</td>\n",
              "      <td>48895.000000</td>\n",
              "      <td>48895.000000</td>\n",
              "      <td>38843.000000</td>\n",
              "      <td>48895.000000</td>\n",
              "      <td>48895.000000</td>\n",
              "    </tr>\n",
              "    <tr>\n",
              "      <th>mean</th>\n",
              "      <td>1.901714e+07</td>\n",
              "      <td>6.762001e+07</td>\n",
              "      <td>40.728949</td>\n",
              "      <td>-73.952170</td>\n",
              "      <td>152.720687</td>\n",
              "      <td>7.029962</td>\n",
              "      <td>23.274466</td>\n",
              "      <td>1.373221</td>\n",
              "      <td>7.143982</td>\n",
              "      <td>112.781327</td>\n",
              "    </tr>\n",
              "    <tr>\n",
              "      <th>std</th>\n",
              "      <td>1.098311e+07</td>\n",
              "      <td>7.861097e+07</td>\n",
              "      <td>0.054530</td>\n",
              "      <td>0.046157</td>\n",
              "      <td>240.154170</td>\n",
              "      <td>20.510550</td>\n",
              "      <td>44.550582</td>\n",
              "      <td>1.680442</td>\n",
              "      <td>32.952519</td>\n",
              "      <td>131.622289</td>\n",
              "    </tr>\n",
              "    <tr>\n",
              "      <th>min</th>\n",
              "      <td>2.539000e+03</td>\n",
              "      <td>2.438000e+03</td>\n",
              "      <td>40.499790</td>\n",
              "      <td>-74.244420</td>\n",
              "      <td>0.000000</td>\n",
              "      <td>1.000000</td>\n",
              "      <td>0.000000</td>\n",
              "      <td>0.010000</td>\n",
              "      <td>1.000000</td>\n",
              "      <td>0.000000</td>\n",
              "    </tr>\n",
              "    <tr>\n",
              "      <th>25%</th>\n",
              "      <td>9.471945e+06</td>\n",
              "      <td>7.822033e+06</td>\n",
              "      <td>40.690100</td>\n",
              "      <td>-73.983070</td>\n",
              "      <td>69.000000</td>\n",
              "      <td>1.000000</td>\n",
              "      <td>1.000000</td>\n",
              "      <td>0.190000</td>\n",
              "      <td>1.000000</td>\n",
              "      <td>0.000000</td>\n",
              "    </tr>\n",
              "    <tr>\n",
              "      <th>50%</th>\n",
              "      <td>1.967728e+07</td>\n",
              "      <td>3.079382e+07</td>\n",
              "      <td>40.723070</td>\n",
              "      <td>-73.955680</td>\n",
              "      <td>106.000000</td>\n",
              "      <td>3.000000</td>\n",
              "      <td>5.000000</td>\n",
              "      <td>0.720000</td>\n",
              "      <td>1.000000</td>\n",
              "      <td>45.000000</td>\n",
              "    </tr>\n",
              "    <tr>\n",
              "      <th>75%</th>\n",
              "      <td>2.915218e+07</td>\n",
              "      <td>1.074344e+08</td>\n",
              "      <td>40.763115</td>\n",
              "      <td>-73.936275</td>\n",
              "      <td>175.000000</td>\n",
              "      <td>5.000000</td>\n",
              "      <td>24.000000</td>\n",
              "      <td>2.020000</td>\n",
              "      <td>2.000000</td>\n",
              "      <td>227.000000</td>\n",
              "    </tr>\n",
              "    <tr>\n",
              "      <th>max</th>\n",
              "      <td>3.648724e+07</td>\n",
              "      <td>2.743213e+08</td>\n",
              "      <td>40.913060</td>\n",
              "      <td>-73.712990</td>\n",
              "      <td>10000.000000</td>\n",
              "      <td>1250.000000</td>\n",
              "      <td>629.000000</td>\n",
              "      <td>58.500000</td>\n",
              "      <td>327.000000</td>\n",
              "      <td>365.000000</td>\n",
              "    </tr>\n",
              "  </tbody>\n",
              "</table>\n",
              "</div>"
            ],
            "text/plain": [
              "                 id  ...  availability_365\n",
              "count  4.889500e+04  ...      48895.000000\n",
              "mean   1.901714e+07  ...        112.781327\n",
              "std    1.098311e+07  ...        131.622289\n",
              "min    2.539000e+03  ...          0.000000\n",
              "25%    9.471945e+06  ...          0.000000\n",
              "50%    1.967728e+07  ...         45.000000\n",
              "75%    2.915218e+07  ...        227.000000\n",
              "max    3.648724e+07  ...        365.000000\n",
              "\n",
              "[8 rows x 10 columns]"
            ]
          },
          "metadata": {},
          "execution_count": 7
        }
      ]
    },
    {
      "cell_type": "code",
      "metadata": {
        "colab": {
          "base_uri": "https://localhost:8080/",
          "height": 411
        },
        "id": "P2PIVE_Pmbij",
        "outputId": "acc2bf5c-d5d3-48bd-f458-aaaab3e9516f"
      },
      "source": [
        "df.head()"
      ],
      "execution_count": 8,
      "outputs": [
        {
          "output_type": "execute_result",
          "data": {
            "text/html": [
              "<div>\n",
              "<style scoped>\n",
              "    .dataframe tbody tr th:only-of-type {\n",
              "        vertical-align: middle;\n",
              "    }\n",
              "\n",
              "    .dataframe tbody tr th {\n",
              "        vertical-align: top;\n",
              "    }\n",
              "\n",
              "    .dataframe thead th {\n",
              "        text-align: right;\n",
              "    }\n",
              "</style>\n",
              "<table border=\"1\" class=\"dataframe\">\n",
              "  <thead>\n",
              "    <tr style=\"text-align: right;\">\n",
              "      <th></th>\n",
              "      <th>id</th>\n",
              "      <th>name</th>\n",
              "      <th>host_id</th>\n",
              "      <th>host_name</th>\n",
              "      <th>neighbourhood_group</th>\n",
              "      <th>neighbourhood</th>\n",
              "      <th>latitude</th>\n",
              "      <th>longitude</th>\n",
              "      <th>room_type</th>\n",
              "      <th>price</th>\n",
              "      <th>minimum_nights</th>\n",
              "      <th>number_of_reviews</th>\n",
              "      <th>last_review</th>\n",
              "      <th>reviews_per_month</th>\n",
              "      <th>calculated_host_listings_count</th>\n",
              "      <th>availability_365</th>\n",
              "    </tr>\n",
              "  </thead>\n",
              "  <tbody>\n",
              "    <tr>\n",
              "      <th>0</th>\n",
              "      <td>2539</td>\n",
              "      <td>Clean &amp; quiet apt home by the park</td>\n",
              "      <td>2787</td>\n",
              "      <td>John</td>\n",
              "      <td>Brooklyn</td>\n",
              "      <td>Kensington</td>\n",
              "      <td>40.64749</td>\n",
              "      <td>-73.97237</td>\n",
              "      <td>Private room</td>\n",
              "      <td>149</td>\n",
              "      <td>1</td>\n",
              "      <td>9</td>\n",
              "      <td>2018-10-19</td>\n",
              "      <td>0.21</td>\n",
              "      <td>6</td>\n",
              "      <td>365</td>\n",
              "    </tr>\n",
              "    <tr>\n",
              "      <th>1</th>\n",
              "      <td>2595</td>\n",
              "      <td>Skylit Midtown Castle</td>\n",
              "      <td>2845</td>\n",
              "      <td>Jennifer</td>\n",
              "      <td>Manhattan</td>\n",
              "      <td>Midtown</td>\n",
              "      <td>40.75362</td>\n",
              "      <td>-73.98377</td>\n",
              "      <td>Entire home/apt</td>\n",
              "      <td>225</td>\n",
              "      <td>1</td>\n",
              "      <td>45</td>\n",
              "      <td>2019-05-21</td>\n",
              "      <td>0.38</td>\n",
              "      <td>2</td>\n",
              "      <td>355</td>\n",
              "    </tr>\n",
              "    <tr>\n",
              "      <th>2</th>\n",
              "      <td>3647</td>\n",
              "      <td>THE VILLAGE OF HARLEM....NEW YORK !</td>\n",
              "      <td>4632</td>\n",
              "      <td>Elisabeth</td>\n",
              "      <td>Manhattan</td>\n",
              "      <td>Harlem</td>\n",
              "      <td>40.80902</td>\n",
              "      <td>-73.94190</td>\n",
              "      <td>Private room</td>\n",
              "      <td>150</td>\n",
              "      <td>3</td>\n",
              "      <td>0</td>\n",
              "      <td>NaN</td>\n",
              "      <td>NaN</td>\n",
              "      <td>1</td>\n",
              "      <td>365</td>\n",
              "    </tr>\n",
              "    <tr>\n",
              "      <th>3</th>\n",
              "      <td>3831</td>\n",
              "      <td>Cozy Entire Floor of Brownstone</td>\n",
              "      <td>4869</td>\n",
              "      <td>LisaRoxanne</td>\n",
              "      <td>Brooklyn</td>\n",
              "      <td>Clinton Hill</td>\n",
              "      <td>40.68514</td>\n",
              "      <td>-73.95976</td>\n",
              "      <td>Entire home/apt</td>\n",
              "      <td>89</td>\n",
              "      <td>1</td>\n",
              "      <td>270</td>\n",
              "      <td>2019-07-05</td>\n",
              "      <td>4.64</td>\n",
              "      <td>1</td>\n",
              "      <td>194</td>\n",
              "    </tr>\n",
              "    <tr>\n",
              "      <th>4</th>\n",
              "      <td>5022</td>\n",
              "      <td>Entire Apt: Spacious Studio/Loft by central park</td>\n",
              "      <td>7192</td>\n",
              "      <td>Laura</td>\n",
              "      <td>Manhattan</td>\n",
              "      <td>East Harlem</td>\n",
              "      <td>40.79851</td>\n",
              "      <td>-73.94399</td>\n",
              "      <td>Entire home/apt</td>\n",
              "      <td>80</td>\n",
              "      <td>10</td>\n",
              "      <td>9</td>\n",
              "      <td>2018-11-19</td>\n",
              "      <td>0.10</td>\n",
              "      <td>1</td>\n",
              "      <td>0</td>\n",
              "    </tr>\n",
              "  </tbody>\n",
              "</table>\n",
              "</div>"
            ],
            "text/plain": [
              "     id  ... availability_365\n",
              "0  2539  ...              365\n",
              "1  2595  ...              355\n",
              "2  3647  ...              365\n",
              "3  3831  ...              194\n",
              "4  5022  ...                0\n",
              "\n",
              "[5 rows x 16 columns]"
            ]
          },
          "metadata": {},
          "execution_count": 8
        }
      ]
    },
    {
      "cell_type": "code",
      "metadata": {
        "colab": {
          "base_uri": "https://localhost:8080/"
        },
        "id": "6kQv5yoLQM6W",
        "outputId": "8f50050c-d483-4047-b941-9ab5649a8de4"
      },
      "source": [
        "df.isnull().sum()"
      ],
      "execution_count": 9,
      "outputs": [
        {
          "output_type": "execute_result",
          "data": {
            "text/plain": [
              "id                                    0\n",
              "name                                 16\n",
              "host_id                               0\n",
              "host_name                            21\n",
              "neighbourhood_group                   0\n",
              "neighbourhood                         0\n",
              "latitude                              0\n",
              "longitude                             0\n",
              "room_type                             0\n",
              "price                                 0\n",
              "minimum_nights                        0\n",
              "number_of_reviews                     0\n",
              "last_review                       10052\n",
              "reviews_per_month                 10052\n",
              "calculated_host_listings_count        0\n",
              "availability_365                      0\n",
              "dtype: int64"
            ]
          },
          "metadata": {},
          "execution_count": 9
        }
      ]
    },
    {
      "cell_type": "code",
      "metadata": {
        "colab": {
          "base_uri": "https://localhost:8080/"
        },
        "id": "nESFqmWdrO94",
        "outputId": "020a4d1d-1ca1-43ef-ccd2-cc22a4b3f23d"
      },
      "source": [
        "df.columns"
      ],
      "execution_count": 10,
      "outputs": [
        {
          "output_type": "execute_result",
          "data": {
            "text/plain": [
              "Index(['id', 'name', 'host_id', 'host_name', 'neighbourhood_group',\n",
              "       'neighbourhood', 'latitude', 'longitude', 'room_type', 'price',\n",
              "       'minimum_nights', 'number_of_reviews', 'last_review',\n",
              "       'reviews_per_month', 'calculated_host_listings_count',\n",
              "       'availability_365'],\n",
              "      dtype='object')"
            ]
          },
          "metadata": {},
          "execution_count": 10
        }
      ]
    },
    {
      "cell_type": "markdown",
      "metadata": {
        "id": "XAxjA-AFVs4W"
      },
      "source": [
        "###Taking Necessary Columns Only"
      ]
    },
    {
      "cell_type": "code",
      "metadata": {
        "colab": {
          "base_uri": "https://localhost:8080/",
          "height": 411
        },
        "id": "-vXBxeh_R3S6",
        "outputId": "9006607c-774d-42ab-e456-0d11a079688a"
      },
      "source": [
        "new_df = df[['id','name','host_id','host_name','neighbourhood_group','neighbourhood','room_type','price','minimum_nights',\n",
        "             'number_of_reviews','calculated_host_listings_count','availability_365']]\n",
        "new_df.head(5)"
      ],
      "execution_count": 11,
      "outputs": [
        {
          "output_type": "execute_result",
          "data": {
            "text/html": [
              "<div>\n",
              "<style scoped>\n",
              "    .dataframe tbody tr th:only-of-type {\n",
              "        vertical-align: middle;\n",
              "    }\n",
              "\n",
              "    .dataframe tbody tr th {\n",
              "        vertical-align: top;\n",
              "    }\n",
              "\n",
              "    .dataframe thead th {\n",
              "        text-align: right;\n",
              "    }\n",
              "</style>\n",
              "<table border=\"1\" class=\"dataframe\">\n",
              "  <thead>\n",
              "    <tr style=\"text-align: right;\">\n",
              "      <th></th>\n",
              "      <th>id</th>\n",
              "      <th>name</th>\n",
              "      <th>host_id</th>\n",
              "      <th>host_name</th>\n",
              "      <th>neighbourhood_group</th>\n",
              "      <th>neighbourhood</th>\n",
              "      <th>room_type</th>\n",
              "      <th>price</th>\n",
              "      <th>minimum_nights</th>\n",
              "      <th>number_of_reviews</th>\n",
              "      <th>calculated_host_listings_count</th>\n",
              "      <th>availability_365</th>\n",
              "    </tr>\n",
              "  </thead>\n",
              "  <tbody>\n",
              "    <tr>\n",
              "      <th>0</th>\n",
              "      <td>2539</td>\n",
              "      <td>Clean &amp; quiet apt home by the park</td>\n",
              "      <td>2787</td>\n",
              "      <td>John</td>\n",
              "      <td>Brooklyn</td>\n",
              "      <td>Kensington</td>\n",
              "      <td>Private room</td>\n",
              "      <td>149</td>\n",
              "      <td>1</td>\n",
              "      <td>9</td>\n",
              "      <td>6</td>\n",
              "      <td>365</td>\n",
              "    </tr>\n",
              "    <tr>\n",
              "      <th>1</th>\n",
              "      <td>2595</td>\n",
              "      <td>Skylit Midtown Castle</td>\n",
              "      <td>2845</td>\n",
              "      <td>Jennifer</td>\n",
              "      <td>Manhattan</td>\n",
              "      <td>Midtown</td>\n",
              "      <td>Entire home/apt</td>\n",
              "      <td>225</td>\n",
              "      <td>1</td>\n",
              "      <td>45</td>\n",
              "      <td>2</td>\n",
              "      <td>355</td>\n",
              "    </tr>\n",
              "    <tr>\n",
              "      <th>2</th>\n",
              "      <td>3647</td>\n",
              "      <td>THE VILLAGE OF HARLEM....NEW YORK !</td>\n",
              "      <td>4632</td>\n",
              "      <td>Elisabeth</td>\n",
              "      <td>Manhattan</td>\n",
              "      <td>Harlem</td>\n",
              "      <td>Private room</td>\n",
              "      <td>150</td>\n",
              "      <td>3</td>\n",
              "      <td>0</td>\n",
              "      <td>1</td>\n",
              "      <td>365</td>\n",
              "    </tr>\n",
              "    <tr>\n",
              "      <th>3</th>\n",
              "      <td>3831</td>\n",
              "      <td>Cozy Entire Floor of Brownstone</td>\n",
              "      <td>4869</td>\n",
              "      <td>LisaRoxanne</td>\n",
              "      <td>Brooklyn</td>\n",
              "      <td>Clinton Hill</td>\n",
              "      <td>Entire home/apt</td>\n",
              "      <td>89</td>\n",
              "      <td>1</td>\n",
              "      <td>270</td>\n",
              "      <td>1</td>\n",
              "      <td>194</td>\n",
              "    </tr>\n",
              "    <tr>\n",
              "      <th>4</th>\n",
              "      <td>5022</td>\n",
              "      <td>Entire Apt: Spacious Studio/Loft by central park</td>\n",
              "      <td>7192</td>\n",
              "      <td>Laura</td>\n",
              "      <td>Manhattan</td>\n",
              "      <td>East Harlem</td>\n",
              "      <td>Entire home/apt</td>\n",
              "      <td>80</td>\n",
              "      <td>10</td>\n",
              "      <td>9</td>\n",
              "      <td>1</td>\n",
              "      <td>0</td>\n",
              "    </tr>\n",
              "  </tbody>\n",
              "</table>\n",
              "</div>"
            ],
            "text/plain": [
              "     id  ... availability_365\n",
              "0  2539  ...              365\n",
              "1  2595  ...              355\n",
              "2  3647  ...              365\n",
              "3  3831  ...              194\n",
              "4  5022  ...                0\n",
              "\n",
              "[5 rows x 12 columns]"
            ]
          },
          "metadata": {},
          "execution_count": 11
        }
      ]
    },
    {
      "cell_type": "markdown",
      "metadata": {
        "id": "AhWPUyKWW71H"
      },
      "source": [
        "##1. What can we learn about different hosts and areas?"
      ]
    },
    {
      "cell_type": "code",
      "metadata": {
        "colab": {
          "base_uri": "https://localhost:8080/",
          "height": 204
        },
        "id": "eIire7M5YUZM",
        "outputId": "9818e7dd-78e9-4dfa-d3ae-f1dc2c2cc375"
      },
      "source": [
        "hosts_areas = new_df.groupby(['host_name','neighbourhood_group'])['calculated_host_listings_count'].max().reset_index()\n",
        "hosts_areas.sort_values(by='calculated_host_listings_count', ascending=False).head(5)\n"
      ],
      "execution_count": 12,
      "outputs": [
        {
          "output_type": "execute_result",
          "data": {
            "text/html": [
              "<div>\n",
              "<style scoped>\n",
              "    .dataframe tbody tr th:only-of-type {\n",
              "        vertical-align: middle;\n",
              "    }\n",
              "\n",
              "    .dataframe tbody tr th {\n",
              "        vertical-align: top;\n",
              "    }\n",
              "\n",
              "    .dataframe thead th {\n",
              "        text-align: right;\n",
              "    }\n",
              "</style>\n",
              "<table border=\"1\" class=\"dataframe\">\n",
              "  <thead>\n",
              "    <tr style=\"text-align: right;\">\n",
              "      <th></th>\n",
              "      <th>host_name</th>\n",
              "      <th>neighbourhood_group</th>\n",
              "      <th>calculated_host_listings_count</th>\n",
              "    </tr>\n",
              "  </thead>\n",
              "  <tbody>\n",
              "    <tr>\n",
              "      <th>13217</th>\n",
              "      <td>Sonder (NYC)</td>\n",
              "      <td>Manhattan</td>\n",
              "      <td>327</td>\n",
              "    </tr>\n",
              "    <tr>\n",
              "      <th>1834</th>\n",
              "      <td>Blueground</td>\n",
              "      <td>Manhattan</td>\n",
              "      <td>232</td>\n",
              "    </tr>\n",
              "    <tr>\n",
              "      <th>1833</th>\n",
              "      <td>Blueground</td>\n",
              "      <td>Brooklyn</td>\n",
              "      <td>232</td>\n",
              "    </tr>\n",
              "    <tr>\n",
              "      <th>7275</th>\n",
              "      <td>Kara</td>\n",
              "      <td>Manhattan</td>\n",
              "      <td>121</td>\n",
              "    </tr>\n",
              "    <tr>\n",
              "      <th>7480</th>\n",
              "      <td>Kazuya</td>\n",
              "      <td>Queens</td>\n",
              "      <td>103</td>\n",
              "    </tr>\n",
              "  </tbody>\n",
              "</table>\n",
              "</div>"
            ],
            "text/plain": [
              "          host_name neighbourhood_group  calculated_host_listings_count\n",
              "13217  Sonder (NYC)           Manhattan                             327\n",
              "1834     Blueground           Manhattan                             232\n",
              "1833     Blueground            Brooklyn                             232\n",
              "7275           Kara           Manhattan                             121\n",
              "7480         Kazuya              Queens                             103"
            ]
          },
          "metadata": {},
          "execution_count": 12
        }
      ]
    },
    {
      "cell_type": "markdown",
      "metadata": {
        "id": "os4mPTmUkHeD"
      },
      "source": [
        "##As we can see most number of listings are from **Manhattan** created Sonder (NYC), Blueground, Michael, David\t"
      ]
    },
    {
      "cell_type": "markdown",
      "metadata": {
        "id": "LvglxArIlebV"
      },
      "source": [
        "##2. What can we learn from predictions? (ex: locations, prices, reviews, etc)"
      ]
    },
    {
      "cell_type": "code",
      "metadata": {
        "colab": {
          "base_uri": "https://localhost:8080/",
          "height": 204
        },
        "id": "BZDeIXzklEXa",
        "outputId": "7964eb25-cf2f-4558-ae91-1990c96ec555"
      },
      "source": [
        "areas_reviews = new_df.groupby(['neighbourhood_group'])['number_of_reviews'].max().reset_index()\n",
        "areas_reviews"
      ],
      "execution_count": 13,
      "outputs": [
        {
          "output_type": "execute_result",
          "data": {
            "text/html": [
              "<div>\n",
              "<style scoped>\n",
              "    .dataframe tbody tr th:only-of-type {\n",
              "        vertical-align: middle;\n",
              "    }\n",
              "\n",
              "    .dataframe tbody tr th {\n",
              "        vertical-align: top;\n",
              "    }\n",
              "\n",
              "    .dataframe thead th {\n",
              "        text-align: right;\n",
              "    }\n",
              "</style>\n",
              "<table border=\"1\" class=\"dataframe\">\n",
              "  <thead>\n",
              "    <tr style=\"text-align: right;\">\n",
              "      <th></th>\n",
              "      <th>neighbourhood_group</th>\n",
              "      <th>number_of_reviews</th>\n",
              "    </tr>\n",
              "  </thead>\n",
              "  <tbody>\n",
              "    <tr>\n",
              "      <th>0</th>\n",
              "      <td>Bronx</td>\n",
              "      <td>321</td>\n",
              "    </tr>\n",
              "    <tr>\n",
              "      <th>1</th>\n",
              "      <td>Brooklyn</td>\n",
              "      <td>488</td>\n",
              "    </tr>\n",
              "    <tr>\n",
              "      <th>2</th>\n",
              "      <td>Manhattan</td>\n",
              "      <td>607</td>\n",
              "    </tr>\n",
              "    <tr>\n",
              "      <th>3</th>\n",
              "      <td>Queens</td>\n",
              "      <td>629</td>\n",
              "    </tr>\n",
              "    <tr>\n",
              "      <th>4</th>\n",
              "      <td>Staten Island</td>\n",
              "      <td>333</td>\n",
              "    </tr>\n",
              "  </tbody>\n",
              "</table>\n",
              "</div>"
            ],
            "text/plain": [
              "  neighbourhood_group  number_of_reviews\n",
              "0               Bronx                321\n",
              "1            Brooklyn                488\n",
              "2           Manhattan                607\n",
              "3              Queens                629\n",
              "4       Staten Island                333"
            ]
          },
          "metadata": {},
          "execution_count": 13
        }
      ]
    },
    {
      "cell_type": "code",
      "metadata": {
        "colab": {
          "base_uri": "https://localhost:8080/",
          "height": 350
        },
        "id": "JMjD36EHnQ12",
        "outputId": "3b08bd11-8955-463b-f9ab-b3a58e3f4d75"
      },
      "source": [
        "area = areas_reviews['neighbourhood_group']\n",
        "review = areas_reviews['number_of_reviews']\n",
        "\n",
        "fig = plt.figure(figsize = (10, 5))\n",
        " \n",
        "# creating the bar plot\n",
        "plt.bar(area, review, color ='maroon',\n",
        "        width = 0.4)\n",
        " \n",
        "plt.xlabel(\"area\")\n",
        "plt.ylabel(\"review\")\n",
        "plt.title(\"Area vs Number of reviews\")\n",
        "plt.show()"
      ],
      "execution_count": 14,
      "outputs": [
        {
          "output_type": "display_data",
          "data": {
            "image/png": "[encoded data removed]",
            "text/plain": [
              "<Figure size 720x360 with 1 Axes>"
            ]
          },
          "metadata": {
            "needs_background": "light"
          }
        }
      ]
    },
    {
      "cell_type": "code",
      "metadata": {
        "colab": {
          "base_uri": "https://localhost:8080/",
          "height": 419
        },
        "id": "o2jyH4gbl8XJ",
        "outputId": "d75e510b-8bf3-4f74-e1f5-67c2a402adb4"
      },
      "source": [
        "price_area = new_df.groupby(['price'])['number_of_reviews'].max().reset_index()\n",
        "price_area"
      ],
      "execution_count": 28,
      "outputs": [
        {
          "output_type": "execute_result",
          "data": {
            "text/html": [
              "<div>\n",
              "<style scoped>\n",
              "    .dataframe tbody tr th:only-of-type {\n",
              "        vertical-align: middle;\n",
              "    }\n",
              "\n",
              "    .dataframe tbody tr th {\n",
              "        vertical-align: top;\n",
              "    }\n",
              "\n",
              "    .dataframe thead th {\n",
              "        text-align: right;\n",
              "    }\n",
              "</style>\n",
              "<table border=\"1\" class=\"dataframe\">\n",
              "  <thead>\n",
              "    <tr style=\"text-align: right;\">\n",
              "      <th></th>\n",
              "      <th>price</th>\n",
              "      <th>number_of_reviews</th>\n",
              "    </tr>\n",
              "  </thead>\n",
              "  <tbody>\n",
              "    <tr>\n",
              "      <th>0</th>\n",
              "      <td>0</td>\n",
              "      <td>95</td>\n",
              "    </tr>\n",
              "    <tr>\n",
              "      <th>1</th>\n",
              "      <td>10</td>\n",
              "      <td>93</td>\n",
              "    </tr>\n",
              "    <tr>\n",
              "      <th>2</th>\n",
              "      <td>11</td>\n",
              "      <td>113</td>\n",
              "    </tr>\n",
              "    <tr>\n",
              "      <th>3</th>\n",
              "      <td>12</td>\n",
              "      <td>8</td>\n",
              "    </tr>\n",
              "    <tr>\n",
              "      <th>4</th>\n",
              "      <td>13</td>\n",
              "      <td>9</td>\n",
              "    </tr>\n",
              "    <tr>\n",
              "      <th>...</th>\n",
              "      <td>...</td>\n",
              "      <td>...</td>\n",
              "    </tr>\n",
              "    <tr>\n",
              "      <th>669</th>\n",
              "      <td>7703</td>\n",
              "      <td>0</td>\n",
              "    </tr>\n",
              "    <tr>\n",
              "      <th>670</th>\n",
              "      <td>8000</td>\n",
              "      <td>1</td>\n",
              "    </tr>\n",
              "    <tr>\n",
              "      <th>671</th>\n",
              "      <td>8500</td>\n",
              "      <td>2</td>\n",
              "    </tr>\n",
              "    <tr>\n",
              "      <th>672</th>\n",
              "      <td>9999</td>\n",
              "      <td>6</td>\n",
              "    </tr>\n",
              "    <tr>\n",
              "      <th>673</th>\n",
              "      <td>10000</td>\n",
              "      <td>5</td>\n",
              "    </tr>\n",
              "  </tbody>\n",
              "</table>\n",
              "<p>674 rows × 2 columns</p>\n",
              "</div>"
            ],
            "text/plain": [
              "     price  number_of_reviews\n",
              "0        0                 95\n",
              "1       10                 93\n",
              "2       11                113\n",
              "3       12                  8\n",
              "4       13                  9\n",
              "..     ...                ...\n",
              "669   7703                  0\n",
              "670   8000                  1\n",
              "671   8500                  2\n",
              "672   9999                  6\n",
              "673  10000                  5\n",
              "\n",
              "[674 rows x 2 columns]"
            ]
          },
          "metadata": {},
          "execution_count": 28
        }
      ]
    },
    {
      "cell_type": "code",
      "metadata": {
        "colab": {
          "base_uri": "https://localhost:8080/",
          "height": 350
        },
        "id": "OKXRknlvnB9n",
        "outputId": "25f2f1b8-433f-4a37-a1f3-1b118edc3c91"
      },
      "source": [
        "area = price_area['price']\n",
        "price = price_area['number_of_reviews']\n",
        "\n",
        "fig = plt.figure(figsize = (10, 5))\n",
        " \n",
        "# creating the bar plot\n",
        "plt.scatter(area, price)\n",
        " \n",
        "plt.xlabel(\"area\")\n",
        "plt.ylabel(\"price\")\n",
        "plt.title(\"Area vs Price\")\n",
        "plt.show()"
      ],
      "execution_count": 32,
      "outputs": [
        {
          "output_type": "display_data",
          "data": {
            "image/png": "[encoded data removed]",
            "text/plain": [
              "<Figure size 720x360 with 1 Axes>"
            ]
          },
          "metadata": {
            "needs_background": "light"
          }
        }
      ]
    },
    {
      "cell_type": "markdown",
      "metadata": {
        "id": "VlL3x0_XpyK1"
      },
      "source": [
        "##From the above Analysis we can say that most people prefer to stay in place where price is less."
      ]
    },
    {
      "cell_type": "markdown",
      "metadata": {
        "id": "UjIieUP4t7CC"
      },
      "source": [
        "##3.Which hosts are the busiest and why?"
      ]
    },
    {
      "cell_type": "code",
      "metadata": {
        "colab": {
          "base_uri": "https://localhost:8080/",
          "height": 359
        },
        "id": "E6GxhZqJs1Vp",
        "outputId": "beaa37cf-c7fc-42aa-c1cb-d27d919439a9"
      },
      "source": [
        "busiest_hosts = new_df.groupby(['host_name','host_id','room_type'])['number_of_reviews'].max().reset_index()\n",
        "busiest_hosts = busiest_hosts.sort_values(by='number_of_reviews', ascending=False).head(10)\n",
        "busiest_hosts"
      ],
      "execution_count": 60,
      "outputs": [
        {
          "output_type": "execute_result",
          "data": {
            "text/html": [
              "<div>\n",
              "<style scoped>\n",
              "    .dataframe tbody tr th:only-of-type {\n",
              "        vertical-align: middle;\n",
              "    }\n",
              "\n",
              "    .dataframe tbody tr th {\n",
              "        vertical-align: top;\n",
              "    }\n",
              "\n",
              "    .dataframe thead th {\n",
              "        text-align: right;\n",
              "    }\n",
              "</style>\n",
              "<table border=\"1\" class=\"dataframe\">\n",
              "  <thead>\n",
              "    <tr style=\"text-align: right;\">\n",
              "      <th></th>\n",
              "      <th>host_name</th>\n",
              "      <th>host_id</th>\n",
              "      <th>room_type</th>\n",
              "      <th>number_of_reviews</th>\n",
              "    </tr>\n",
              "  </thead>\n",
              "  <tbody>\n",
              "    <tr>\n",
              "      <th>10279</th>\n",
              "      <td>Dona</td>\n",
              "      <td>47621202</td>\n",
              "      <td>Private room</td>\n",
              "      <td>629</td>\n",
              "    </tr>\n",
              "    <tr>\n",
              "      <th>17708</th>\n",
              "      <td>Jj</td>\n",
              "      <td>4734398</td>\n",
              "      <td>Private room</td>\n",
              "      <td>607</td>\n",
              "    </tr>\n",
              "    <tr>\n",
              "      <th>25566</th>\n",
              "      <td>Maya</td>\n",
              "      <td>37312959</td>\n",
              "      <td>Private room</td>\n",
              "      <td>543</td>\n",
              "    </tr>\n",
              "    <tr>\n",
              "      <th>6235</th>\n",
              "      <td>Carol</td>\n",
              "      <td>2369681</td>\n",
              "      <td>Private room</td>\n",
              "      <td>540</td>\n",
              "    </tr>\n",
              "    <tr>\n",
              "      <th>8947</th>\n",
              "      <td>Danielle</td>\n",
              "      <td>26432133</td>\n",
              "      <td>Private room</td>\n",
              "      <td>510</td>\n",
              "    </tr>\n",
              "    <tr>\n",
              "      <th>3950</th>\n",
              "      <td>Asa</td>\n",
              "      <td>12949460</td>\n",
              "      <td>Entire home/apt</td>\n",
              "      <td>488</td>\n",
              "    </tr>\n",
              "    <tr>\n",
              "      <th>37748</th>\n",
              "      <td>Wanda</td>\n",
              "      <td>792159</td>\n",
              "      <td>Private room</td>\n",
              "      <td>480</td>\n",
              "    </tr>\n",
              "    <tr>\n",
              "      <th>22499</th>\n",
              "      <td>Linda</td>\n",
              "      <td>2680820</td>\n",
              "      <td>Private room</td>\n",
              "      <td>474</td>\n",
              "    </tr>\n",
              "    <tr>\n",
              "      <th>8625</th>\n",
              "      <td>Dani</td>\n",
              "      <td>42273</td>\n",
              "      <td>Entire home/apt</td>\n",
              "      <td>467</td>\n",
              "    </tr>\n",
              "    <tr>\n",
              "      <th>2942</th>\n",
              "      <td>Angela</td>\n",
              "      <td>23591164</td>\n",
              "      <td>Private room</td>\n",
              "      <td>466</td>\n",
              "    </tr>\n",
              "  </tbody>\n",
              "</table>\n",
              "</div>"
            ],
            "text/plain": [
              "      host_name   host_id        room_type  number_of_reviews\n",
              "10279      Dona  47621202     Private room                629\n",
              "17708        Jj   4734398     Private room                607\n",
              "25566      Maya  37312959     Private room                543\n",
              "6235      Carol   2369681     Private room                540\n",
              "8947   Danielle  26432133     Private room                510\n",
              "3950        Asa  12949460  Entire home/apt                488\n",
              "37748     Wanda    792159     Private room                480\n",
              "22499     Linda   2680820     Private room                474\n",
              "8625       Dani     42273  Entire home/apt                467\n",
              "2942     Angela  23591164     Private room                466"
            ]
          },
          "metadata": {},
          "execution_count": 60
        }
      ]
    },
    {
      "cell_type": "code",
      "metadata": {
        "colab": {
          "base_uri": "https://localhost:8080/",
          "height": 350
        },
        "id": "J6fXh5tPug2A",
        "outputId": "0555f27f-9144-4cfa-c082-4b8b6a9f0b8e"
      },
      "source": [
        "name = busiest_hosts['host_name']\n",
        "reviews = busiest_hosts['number_of_reviews']\n",
        "\n",
        "fig = plt.figure(figsize = (10, 5))\n",
        " \n",
        "# creating the bar plot\n",
        "plt.bar(name, reviews, color ='maroon',\n",
        "        width = 0.4)\n",
        " \n",
        "plt.xlabel(\"Name of the Host\")\n",
        "plt.ylabel(\"Number of Reviews\")\n",
        "plt.title(\"Busiest Hosts\")\n",
        "plt.show()"
      ],
      "execution_count": 61,
      "outputs": [
        {
          "output_type": "display_data",
          "data": {
            "image/png": "[encoded data removed]",
            "text/plain": [
              "<Figure size 720x360 with 1 Axes>"
            ]
          },
          "metadata": {
            "needs_background": "light"
          }
        }
      ]
    },
    {
      "cell_type": "markdown",
      "metadata": {
        "id": "TrPHDpX3vbBz"
      },
      "source": [
        "##Busiest hosts are: \n",
        "1. Dona\n",
        "2. Ji\n",
        "3. Maya\n",
        "4. Carol\n",
        "5. Danielle\n",
        "\n",
        "##Because these hosts listed room type as Entire home and Private room which is preferred by most number of people."
      ]
    },
    {
      "cell_type": "markdown",
      "metadata": {
        "id": "bZ13Zhwdwz6X"
      },
      "source": [
        "##4. Is there any noticeable difference of traffic among different areas and what could be the reason for it?"
      ]
    },
    {
      "cell_type": "code",
      "metadata": {
        "id": "pg7TE4_ew-l7",
        "colab": {
          "base_uri": "https://localhost:8080/",
          "height": 514
        },
        "outputId": "d1776efb-ccae-40c7-dcc1-2509f6f9bfe2"
      },
      "source": [
        "traffic_areas = new_df.groupby(['neighbourhood_group','room_type'])['minimum_nights'].count().reset_index()\n",
        "traffic_areas = traffic_areas.sort_values(by='minimum_nights', ascending=False)\n",
        "traffic_areas"
      ],
      "execution_count": 26,
      "outputs": [
        {
          "output_type": "execute_result",
          "data": {
            "text/html": [
              "<div>\n",
              "<style scoped>\n",
              "    .dataframe tbody tr th:only-of-type {\n",
              "        vertical-align: middle;\n",
              "    }\n",
              "\n",
              "    .dataframe tbody tr th {\n",
              "        vertical-align: top;\n",
              "    }\n",
              "\n",
              "    .dataframe thead th {\n",
              "        text-align: right;\n",
              "    }\n",
              "</style>\n",
              "<table border=\"1\" class=\"dataframe\">\n",
              "  <thead>\n",
              "    <tr style=\"text-align: right;\">\n",
              "      <th></th>\n",
              "      <th>neighbourhood_group</th>\n",
              "      <th>room_type</th>\n",
              "      <th>minimum_nights</th>\n",
              "    </tr>\n",
              "  </thead>\n",
              "  <tbody>\n",
              "    <tr>\n",
              "      <th>6</th>\n",
              "      <td>Manhattan</td>\n",
              "      <td>Entire home/apt</td>\n",
              "      <td>13199</td>\n",
              "    </tr>\n",
              "    <tr>\n",
              "      <th>4</th>\n",
              "      <td>Brooklyn</td>\n",
              "      <td>Private room</td>\n",
              "      <td>10132</td>\n",
              "    </tr>\n",
              "    <tr>\n",
              "      <th>3</th>\n",
              "      <td>Brooklyn</td>\n",
              "      <td>Entire home/apt</td>\n",
              "      <td>9559</td>\n",
              "    </tr>\n",
              "    <tr>\n",
              "      <th>7</th>\n",
              "      <td>Manhattan</td>\n",
              "      <td>Private room</td>\n",
              "      <td>7982</td>\n",
              "    </tr>\n",
              "    <tr>\n",
              "      <th>10</th>\n",
              "      <td>Queens</td>\n",
              "      <td>Private room</td>\n",
              "      <td>3372</td>\n",
              "    </tr>\n",
              "    <tr>\n",
              "      <th>9</th>\n",
              "      <td>Queens</td>\n",
              "      <td>Entire home/apt</td>\n",
              "      <td>2096</td>\n",
              "    </tr>\n",
              "    <tr>\n",
              "      <th>1</th>\n",
              "      <td>Bronx</td>\n",
              "      <td>Private room</td>\n",
              "      <td>652</td>\n",
              "    </tr>\n",
              "    <tr>\n",
              "      <th>8</th>\n",
              "      <td>Manhattan</td>\n",
              "      <td>Shared room</td>\n",
              "      <td>480</td>\n",
              "    </tr>\n",
              "    <tr>\n",
              "      <th>5</th>\n",
              "      <td>Brooklyn</td>\n",
              "      <td>Shared room</td>\n",
              "      <td>413</td>\n",
              "    </tr>\n",
              "    <tr>\n",
              "      <th>0</th>\n",
              "      <td>Bronx</td>\n",
              "      <td>Entire home/apt</td>\n",
              "      <td>379</td>\n",
              "    </tr>\n",
              "    <tr>\n",
              "      <th>11</th>\n",
              "      <td>Queens</td>\n",
              "      <td>Shared room</td>\n",
              "      <td>198</td>\n",
              "    </tr>\n",
              "    <tr>\n",
              "      <th>13</th>\n",
              "      <td>Staten Island</td>\n",
              "      <td>Private room</td>\n",
              "      <td>188</td>\n",
              "    </tr>\n",
              "    <tr>\n",
              "      <th>12</th>\n",
              "      <td>Staten Island</td>\n",
              "      <td>Entire home/apt</td>\n",
              "      <td>176</td>\n",
              "    </tr>\n",
              "    <tr>\n",
              "      <th>2</th>\n",
              "      <td>Bronx</td>\n",
              "      <td>Shared room</td>\n",
              "      <td>60</td>\n",
              "    </tr>\n",
              "    <tr>\n",
              "      <th>14</th>\n",
              "      <td>Staten Island</td>\n",
              "      <td>Shared room</td>\n",
              "      <td>9</td>\n",
              "    </tr>\n",
              "  </tbody>\n",
              "</table>\n",
              "</div>"
            ],
            "text/plain": [
              "   neighbourhood_group        room_type  minimum_nights\n",
              "6            Manhattan  Entire home/apt           13199\n",
              "4             Brooklyn     Private room           10132\n",
              "3             Brooklyn  Entire home/apt            9559\n",
              "7            Manhattan     Private room            7982\n",
              "10              Queens     Private room            3372\n",
              "9               Queens  Entire home/apt            2096\n",
              "1                Bronx     Private room             652\n",
              "8            Manhattan      Shared room             480\n",
              "5             Brooklyn      Shared room             413\n",
              "0                Bronx  Entire home/apt             379\n",
              "11              Queens      Shared room             198\n",
              "13       Staten Island     Private room             188\n",
              "12       Staten Island  Entire home/apt             176\n",
              "2                Bronx      Shared room              60\n",
              "14       Staten Island      Shared room               9"
            ]
          },
          "metadata": {},
          "execution_count": 26
        }
      ]
    },
    {
      "cell_type": "code",
      "metadata": {
        "id": "ui7qdpnKxThD",
        "colab": {
          "base_uri": "https://localhost:8080/",
          "height": 350
        },
        "outputId": "8de564df-8aad-4a15-b89f-cab58e83af83"
      },
      "source": [
        "room_type = traffic_areas['room_type']\n",
        "stayed = traffic_areas['minimum_nights']\n",
        "\n",
        "fig = plt.figure(figsize = (10, 5))\n",
        " \n",
        "# creating the bar plot\n",
        "plt.bar(room_type, stayed, color ='maroon',\n",
        "        width = 0.4)\n",
        " \n",
        "plt.xlabel(\"Room Type\")\n",
        "plt.ylabel(\"Minimum number of nights stayed\")\n",
        "plt.title(\"Traffic Areas\")\n",
        "plt.show()"
      ],
      "execution_count": 27,
      "outputs": [
        {
          "output_type": "display_data",
          "data": {
            "image/png": "[encoded data removed]",
            "text/plain": [
              "<Figure size 720x360 with 1 Axes>"
            ]
          },
          "metadata": {
            "needs_background": "light"
          }
        }
      ]
    },
    {
      "cell_type": "markdown",
      "metadata": {
        "id": "xttk6PCayEIw"
      },
      "source": [
        "###From the Above Analysis We can Stay that People are preferring Entire home/apt or Private room which are present in Manhattan, Brooklyn, Queens and people are preferring listings which are less in price."
      ]
    },
    {
      "cell_type": "markdown",
      "metadata": {
        "id": "SmsxAgwuRwQR"
      },
      "source": [
        "##Conclusion:\n",
        "###1. The people who prefer to stay in Entire home or  Apartment they are going to stay bit longer in that particular Neighbourhood only.\n",
        "###2. The people who prefer to stay in Private room they won't stay longer as compared to Home or Apartment.\n",
        "###3. Most people prefer to pay less price.\n",
        "###4. If there are more number of Reviews for particular Neighbourhood group that means that place is a tourist place.\n",
        "###5. If people are not staying more then one night means they are travellers."
      ]
    },
    {
      "cell_type": "markdown",
      "metadata": {
        "id": "O7dXWOonztnf"
      },
      "source": [
        "\n",
        "\n",
        "---\n",
        "\n",
        "\n",
        "#Thanks \n",
        "\n",
        "\n"
      ]
    }
  ]
}